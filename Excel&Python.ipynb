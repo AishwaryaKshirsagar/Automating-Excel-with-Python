{
 "cells": [
  {
   "cell_type": "code",
   "execution_count": 1,
   "metadata": {},
   "outputs": [
    {
     "name": "stdout",
     "output_type": "stream",
     "text": [
      "Requirement already satisfied: openpyxl in c:\\users\\7xin\\anaconda3\\lib\\site-packages (3.0.4)\n",
      "Requirement already satisfied: et-xmlfile in c:\\users\\7xin\\anaconda3\\lib\\site-packages (from openpyxl) (1.0.1)\n",
      "Requirement already satisfied: jdcal in c:\\users\\7xin\\anaconda3\\lib\\site-packages (from openpyxl) (1.4.1)\n"
     ]
    }
   ],
   "source": [
    "!pip install openpyxl"
   ]
  },
  {
   "cell_type": "code",
   "execution_count": 3,
   "metadata": {},
   "outputs": [],
   "source": [
    "from openpyxl import Workbook, load_workbook\n",
    "from openpyxl.utils import get_column_letter\n",
    "from openpyxl.styles import Font"
   ]
  },
  {
   "cell_type": "code",
   "execution_count": 5,
   "metadata": {},
   "outputs": [],
   "source": [
    "# providing data in dictionary\n",
    "data = {\n",
    "    'Jen':{\n",
    "        \"math\": 65,\n",
    "        \"science\": 78,\n",
    "        \"english\": 98,\n",
    "        \"gym\": 89,\n",
    "        'cs':100,\n",
    "        'java':60,\n",
    "        'c#':70\n",
    "    },\n",
    "    'Mark':{\n",
    "        \"math\": 75,\n",
    "        \"science\": 78,\n",
    "        \"english\": 98,\n",
    "        \"gym\": 89,\n",
    "        'cs':90,\n",
    "        'java':60,\n",
    "        'c#':70\n",
    "    },\n",
    "    'Dre':{\n",
    "        \"math\": 55,\n",
    "        \"science\": 78,\n",
    "        \"english\": 68,\n",
    "        \"gym\": 89,\n",
    "        'cs':70,\n",
    "        'java':60,\n",
    "        'c#':78\n",
    "    },\n",
    "    'Adam':{\n",
    "        \"math\": 75,\n",
    "        \"science\": 78,\n",
    "        \"english\": 68,\n",
    "        \"gym\": 99,\n",
    "        'cs':90,\n",
    "        'java':60,\n",
    "        'c#':60\n",
    "    },\n",
    "    'Drake':{\n",
    "        \"math\": 75,\n",
    "        \"science\": 78,\n",
    "        \"english\": 88,\n",
    "        \"gym\": 89,\n",
    "        'cs':97,\n",
    "        'java':40,\n",
    "        'c#':50\n",
    "    }\n",
    "}"
   ]
  },
  {
   "cell_type": "code",
   "execution_count": 6,
   "metadata": {},
   "outputs": [],
   "source": [
    "wb = Workbook()\n",
    "ws = wb.active\n",
    "ws.title = 'Marks'"
   ]
  },
  {
   "cell_type": "code",
   "execution_count": 7,
   "metadata": {},
   "outputs": [],
   "source": [
    "headings = ['Name'] + list(data['Jen'].keys())\n",
    "ws.append(headings)"
   ]
  },
  {
   "cell_type": "code",
   "execution_count": 9,
   "metadata": {},
   "outputs": [],
   "source": [
    "for person in data:\n",
    "    marks = list(data[person].values())\n",
    "    ws.append([person] + marks)"
   ]
  },
  {
   "cell_type": "code",
   "execution_count": 11,
   "metadata": {},
   "outputs": [],
   "source": [
    "for col in range(2, len(data['Jen']) + 2):\n",
    "    char = get_column_letter(col)\n",
    "    ws[char + '7'] = f\"= SUM({char + '2'}:{char + '6'})/{len(data)}\""
   ]
  },
  {
   "cell_type": "code",
   "execution_count": 22,
   "metadata": {},
   "outputs": [],
   "source": [
    "for col in range(1, 9):\n",
    "    ws[get_column_letter(col) + '1'].font = Font(bold=True, color = '0099CCCC')"
   ]
  },
  {
   "cell_type": "code",
   "execution_count": 23,
   "metadata": {},
   "outputs": [],
   "source": [
    "wb.save('Marks.xlsx')"
   ]
  },
  {
   "cell_type": "code",
   "execution_count": null,
   "metadata": {},
   "outputs": [],
   "source": []
  }
 ],
 "metadata": {
  "kernelspec": {
   "display_name": "Python 3",
   "language": "python",
   "name": "python3"
  },
  "language_info": {
   "codemirror_mode": {
    "name": "ipython",
    "version": 3
   },
   "file_extension": ".py",
   "mimetype": "text/x-python",
   "name": "python",
   "nbconvert_exporter": "python",
   "pygments_lexer": "ipython3",
   "version": "3.8.5"
  }
 },
 "nbformat": 4,
 "nbformat_minor": 4
}
